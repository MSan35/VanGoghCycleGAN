{
 "cells": [
  {
   "cell_type": "code",
   "execution_count": 2,
   "id": "4fc265d6-0ec0-460d-b27c-c11212db7282",
   "metadata": {},
   "outputs": [
    {
     "data": {
      "text/plain": [
       "'\\nThe following is used to test the images\\n\\ndataloaders = preprocess_data(data_folder, image_size=(256, 256), batch_size=16)\\ntest_preprocessing(dataloaders, image_size=(256, 256))\\n'"
      ]
     },
     "execution_count": 2,
     "metadata": {},
     "output_type": "execute_result"
    }
   ],
   "source": [
    "import os\n",
    "from torchvision import transforms, datasets\n",
    "from torch.utils.data import DataLoader\n",
    "import matplotlib.pyplot as plt\n",
    "\n",
    "data_folder = os.getcwd() + \"/data\"\n",
    "\n",
    "def preprocess_data(data_folder, image_size=(256, 256), batch_size=16):\n",
    "\n",
    "    transform = transforms.Compose([\n",
    "        transforms.Resize(image_size),\n",
    "        transforms.ToTensor(),\n",
    "        transforms.Normalize(mean=(0.5, 0.5, 0.5), std=(0.5, 0.5, 0.5))\n",
    "    ])\n",
    "\n",
    "\n",
    "    subfolders = ['vangogh_train', 'vangogh_test', 'landscape_train', 'landscape_test']\n",
    "    dataloaders = {}\n",
    "\n",
    "    for folder in subfolders:\n",
    "        subfolder_path = os.path.join(data_folder, folder)\n",
    "        if not os.path.exists(subfolder_path):\n",
    "            raise FileNotFoundError(f\"Directory not found: {subfolder_path}\")\n",
    "        \n",
    "        dataset = datasets.ImageFolder(root=subfolder_path, transform=transform)\n",
    "        \n",
    "        dataloader = DataLoader(dataset, batch_size=batch_size, shuffle=('train' in folder))\n",
    "        \n",
    "        dataloaders[folder] = dataloader\n",
    "    \n",
    "    return dataloaders\n",
    "\n",
    "\n",
    "# testing\n",
    "def test_preprocessing(dataloaders, image_size=(256, 256)):\n",
    "    print(\"Testing preprocessing...\")\n",
    "\n",
    "    for subset, dataloader in dataloaders.items():\n",
    "        print(f\"Testing subset: {subset}\")\n",
    "        \n",
    "        for batch_idx, (images, _) in enumerate(dataloader):\n",
    "            print(f\"Batch {batch_idx + 1}:\")\n",
    "            \n",
    "            # Check image dimensions\n",
    "            assert images.shape[2:] == image_size, f\"Images are not resized to {image_size}\"\n",
    "            print(f\"  - Batch size: {images.shape[0]}\")\n",
    "            print(f\"  - Image dimensions: {images.shape[2:]}\")\n",
    "            \n",
    "            # Check normalization\n",
    "            assert images.min() >= -1 and images.max() <= 1, \"Images are not normalized to [-1, 1]\"\n",
    "            print(f\"  - Pixel range: [{images.min().item():.2f}, {images.max().item():.2f}]\")\n",
    "            \n",
    "            # display images\n",
    "            if batch_idx == 0:\n",
    "                for i in range(min(4, images.size(0))):\n",
    "                    image = images[i]\n",
    "                    image = (image * 0.5 + 0.5).clamp(0, 1)\n",
    "                    plt.imshow(image.permute(1, 2, 0).numpy())\n",
    "                    plt.title(f\"Subset: {subset}, Image: {i + 1}\")\n",
    "                    plt.axis('off')\n",
    "                    plt.show()\n",
    "            break\n",
    "\n",
    "'''\n",
    "The following is used to test the images\n",
    "\n",
    "dataloaders = preprocess_data(data_folder, image_size=(256, 256), batch_size=16)\n",
    "test_preprocessing(dataloaders, image_size=(256, 256))\n",
    "'''"
   ]
  },
  {
   "cell_type": "code",
   "execution_count": null,
   "id": "2c17b204-d259-4954-9922-43f01fbd0421",
   "metadata": {},
   "outputs": [],
   "source": []
  }
 ],
 "metadata": {
  "kernelspec": {
   "display_name": "Python 3 (ipykernel)",
   "language": "python",
   "name": "python3"
  },
  "language_info": {
   "codemirror_mode": {
    "name": "ipython",
    "version": 3
   },
   "file_extension": ".py",
   "mimetype": "text/x-python",
   "name": "python",
   "nbconvert_exporter": "python",
   "pygments_lexer": "ipython3",
   "version": "3.10.16"
  }
 },
 "nbformat": 4,
 "nbformat_minor": 5
}
